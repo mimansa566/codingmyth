{
  "cells": [
    {
      "cell_type": "markdown",
      "metadata": {
        "id": "view-in-github",
        "colab_type": "text"
      },
      "source": [
        "<a href=\"https://colab.research.google.com/github/mimansa566/codingmyth/blob/main/python_basics.ipynb\" target=\"_parent\"><img src=\"https://colab.research.google.com/assets/colab-badge.svg\" alt=\"Open In Colab\"/></a>"
      ]
    },
    {
      "cell_type": "code",
      "execution_count": null,
      "metadata": {
        "id": "_N589phh7baL"
      },
      "outputs": [],
      "source": []
    },
    {
      "cell_type": "code",
      "execution_count": null,
      "metadata": {
        "colab": {
          "background_save": true,
          "base_uri": "https://localhost:8080/"
        },
        "id": "qQjmH9lqi37L",
        "outputId": "d437d5a2-0fb9-45b2-e2c6-8e0c70405c0a"
      },
      "outputs": [
        {
          "name": "stdout",
          "output_type": "stream",
          "text": [
            "16\n",
            "False\n"
          ]
        }
      ],
      "source": [
        "num_1=2\n",
        "num_2=4\n",
        "exp=num_1**num_2\n",
        "print(exp);\n",
        "print(num_1>0 and num_2<0)"
      ]
    },
    {
      "cell_type": "code",
      "source": [],
      "metadata": {
        "id": "DdKmD2GPgJMy"
      },
      "execution_count": null,
      "outputs": []
    },
    {
      "cell_type": "code",
      "source": [],
      "metadata": {
        "id": "6EEBiwzZhlZb"
      },
      "execution_count": null,
      "outputs": []
    },
    {
      "cell_type": "code",
      "source": [
        "a=int(input('enter the 1st no'))\n",
        "b=int(input('enter the 2nd no'))\n",
        "if (a>b):\n",
        "  print('a is greater')\n",
        "else:\n",
        "  print('b is greater no')"
      ],
      "metadata": {
        "colab": {
          "base_uri": "https://localhost:8080/"
        },
        "id": "koS66bhvhmNf",
        "outputId": "0b68d9a5-33e2-4da0-865b-83a7e057ee0a"
      },
      "execution_count": null,
      "outputs": [
        {
          "output_type": "stream",
          "name": "stdout",
          "text": [
            "enter the 1st no23\n",
            "enter the 2nd no34\n",
            "b is greater no\n"
          ]
        }
      ]
    },
    {
      "cell_type": "code",
      "source": [],
      "metadata": {
        "id": "2pZJJuUWkM8I"
      },
      "execution_count": null,
      "outputs": []
    },
    {
      "cell_type": "markdown",
      "source": [
        "if else in python\n"
      ],
      "metadata": {
        "id": "jHHAlFfzhhEo"
      }
    },
    {
      "cell_type": "code",
      "source": [
        "a=20\n",
        "b=30\n",
        "c=21\n",
        "if(b<a>c):\n",
        "  print('a is the greatest no')\n",
        "elif(a<b>c):\n",
        "    print('b is greatest no')\n",
        "else:\n",
        "      print('c is the gratest no')"
      ],
      "metadata": {
        "id": "DoGHWl5IkOmc",
        "colab": {
          "base_uri": "https://localhost:8080/"
        },
        "outputId": "f8e4c486-d4d4-4cbd-e6db-e23a6240e2a2"
      },
      "execution_count": null,
      "outputs": [
        {
          "output_type": "stream",
          "name": "stdout",
          "text": [
            "b is greatest no\n"
          ]
        }
      ]
    },
    {
      "cell_type": "markdown",
      "source": [
        "loops"
      ],
      "metadata": {
        "id": "2vx6c0yLoPGQ"
      }
    },
    {
      "cell_type": "markdown",
      "source": [],
      "metadata": {
        "id": "VI6dCbGmoRWr"
      }
    },
    {
      "cell_type": "code",
      "source": [
        "#for loop\n",
        "for i in range(5):\n",
        "  laptop_price=int(input('enter the price of laptop'))"
      ],
      "metadata": {
        "colab": {
          "base_uri": "https://localhost:8080/"
        },
        "id": "2YeEYqezoSBz",
        "outputId": "d5ce0fe5-b439-49d9-ca6b-976d370fd9b7"
      },
      "execution_count": null,
      "outputs": [
        {
          "name": "stdout",
          "output_type": "stream",
          "text": [
            "enter the price of laptop20\n",
            "enter the price of laptop30\n",
            "enter the price of laptop40\n",
            "enter the price of laptop50\n",
            "enter the price of laptop60\n"
          ]
        }
      ]
    },
    {
      "cell_type": "markdown",
      "source": [
        "while condition"
      ],
      "metadata": {
        "id": "ZXU_WwKksJcQ"
      }
    },
    {
      "cell_type": "code",
      "source": [
        "i=0\n",
        "while i<10:\n",
        " print(i)\n",
        " i+=1"
      ],
      "metadata": {
        "id": "dys1dWpTsMyE",
        "colab": {
          "base_uri": "https://localhost:8080/"
        },
        "outputId": "954da829-a223-488f-8ab1-226c3e0051d6"
      },
      "execution_count": 12,
      "outputs": [
        {
          "output_type": "stream",
          "name": "stdout",
          "text": [
            "0\n",
            "1\n",
            "2\n",
            "3\n",
            "4\n",
            "5\n",
            "6\n",
            "7\n",
            "8\n",
            "9\n"
          ]
        }
      ]
    },
    {
      "cell_type": "code",
      "source": [],
      "metadata": {
        "id": "9nQfPMYPubd6"
      },
      "execution_count": null,
      "outputs": []
    },
    {
      "cell_type": "markdown",
      "source": [
        "functions in python"
      ],
      "metadata": {
        "id": "d9H-rMnwucDH"
      }
    },
    {
      "cell_type": "code",
      "source": [
        "num=int(input('enter the no to find its factorial'))\n",
        "factorial=1\n",
        "if num ==0:\n",
        "  print('factorial is 1')\n",
        "else:\n",
        "  for i in range(1,num+1):\n",
        "    factorial=factorial*i\n",
        "  print('factorial is', factorial)"
      ],
      "metadata": {
        "colab": {
          "base_uri": "https://localhost:8080/"
        },
        "id": "kURDbVezuf9H",
        "outputId": "f698efe1-25d5-466f-bf33-fab7b89f7c32"
      },
      "execution_count": 15,
      "outputs": [
        {
          "output_type": "stream",
          "name": "stdout",
          "text": [
            "enter the no to find its factorial0\n",
            "factorial is 1\n"
          ]
        }
      ]
    }
  ],
  "metadata": {
    "colab": {
      "provenance": [],
      "authorship_tag": "ABX9TyO3WtPyOkVP21wsuOhuwzpt",
      "include_colab_link": true
    },
    "kernelspec": {
      "display_name": "Python 3",
      "name": "python3"
    },
    "language_info": {
      "name": "python"
    }
  },
  "nbformat": 4,
  "nbformat_minor": 0
}